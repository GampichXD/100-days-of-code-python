{
 "cells": [
  {
   "cell_type": "code",
   "execution_count": 2,
   "metadata": {},
   "outputs": [
    {
     "name": "stdout",
     "output_type": "stream",
     "text": [
      "Selamat Datang di Calculator Paling Sederhana\n",
      "Hasilnya adalah 2\n",
      "Terima kasih sudah menggunakan\n"
     ]
    }
   ],
   "source": [
    "def add(a,b):\n",
    "  return a + b\n",
    "\n",
    "def sub(a,b):\n",
    "  return a - b\n",
    "\n",
    "def mul(a,b):\n",
    "  return a * b\n",
    "\n",
    "def div(a,b):\n",
    "  if b != 0:\n",
    "        return a / b\n",
    "  else:\n",
    "        return \"Error: Pembagian dengan nol tidak diperbolehkan\"\n",
    "\n",
    "def mod(a,b):\n",
    "  return a % b\n",
    "\n",
    "def pow(a,b):\n",
    "  return a ** b\n",
    "\n",
    "print(\"Selamat Datang di Calculator Paling Sederhana\")\n",
    "while True:\n",
    "  first_num = int(input(\"Masukkan angka pertama: \"))\n",
    "  choose = input(\"Pilih operasi (+, -, *, /, %, ^): \")\n",
    "  second_num = int(input(\"Masukkan angka kedua: \"))\n",
    "  if choose == '+':\n",
    "    hasil = add(first_num, second_num)\n",
    "  elif choose == '-':\n",
    "    hasil = sub(first_num, second_num)\n",
    "  elif choose == '*':\n",
    "    hasil = mul(first_num, second_num)\n",
    "  elif choose == '/':\n",
    "    hasil = div(first_num, second_num)\n",
    "  elif choose == '%':\n",
    "    hasil = mod(first_num, second_num)\n",
    "  elif choose == '^':\n",
    "    hasil = pow(first_num, second_num)\n",
    "  else:\n",
    "    print(\"Operator tidak valid\")\n",
    "  print(f\"Hasilnya adalah {hasil}\")\n",
    "  next = input(\"Apakah ingin lanjut perhitungan selajutnya? (y/n)\")\n",
    "  if next == 'n':\n",
    "    print(\"Terima kasih sudah menggunakan\")\n",
    "    break"
   ]
  },
  {
   "cell_type": "code",
   "execution_count": null,
   "metadata": {},
   "outputs": [],
   "source": []
  }
 ],
 "metadata": {
  "kernelspec": {
   "display_name": "Python 3",
   "language": "python",
   "name": "python3"
  },
  "language_info": {
   "codemirror_mode": {
    "name": "ipython",
    "version": 3
   },
   "file_extension": ".py",
   "mimetype": "text/x-python",
   "name": "python",
   "nbconvert_exporter": "python",
   "pygments_lexer": "ipython3",
   "version": "3.12.6"
  }
 },
 "nbformat": 4,
 "nbformat_minor": 2
}
