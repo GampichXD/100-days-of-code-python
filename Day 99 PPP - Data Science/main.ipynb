{
 "cells": [
  {
   "cell_type": "code",
   "execution_count": null,
   "id": "4bd3c1d8",
   "metadata": {},
   "outputs": [],
   "source": [
    "# Professional Portfolio Project - Data Science\n",
    "# Analyse and Visualise the Space Race\n",
    "# Author : Abraham"
   ]
  }
 ],
 "metadata": {
  "language_info": {
   "name": "python"
  }
 },
 "nbformat": 4,
 "nbformat_minor": 5
}
